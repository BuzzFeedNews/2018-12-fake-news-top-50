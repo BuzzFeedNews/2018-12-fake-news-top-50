{
 "cells": [
  {
   "cell_type": "markdown",
   "metadata": {},
   "source": [
    "# Analysis of 2018 fake news urls and comparison with 2016, 2017 fake news sites"
   ]
  },
  {
   "cell_type": "code",
   "execution_count": 14,
   "metadata": {},
   "outputs": [],
   "source": [
    "import pandas as pd\n",
    "from datetime import datetime\n",
    "from urllib.parse import urlparse\n",
    "import calendar\n",
    "import re"
   ]
  },
  {
   "cell_type": "code",
   "execution_count": 15,
   "metadata": {},
   "outputs": [],
   "source": [
    "%matplotlib inline\n",
    "pd.set_option('max_colwidth', 200)"
   ]
  },
  {
   "cell_type": "markdown",
   "metadata": {},
   "source": [
    "## Load the lists of sites by year"
   ]
  },
  {
   "cell_type": "code",
   "execution_count": 16,
   "metadata": {},
   "outputs": [
    {
     "data": {
      "text/html": [
       "<div>\n",
       "<style scoped>\n",
       "    .dataframe tbody tr th:only-of-type {\n",
       "        vertical-align: middle;\n",
       "    }\n",
       "\n",
       "    .dataframe tbody tr th {\n",
       "        vertical-align: top;\n",
       "    }\n",
       "\n",
       "    .dataframe thead th {\n",
       "        text-align: right;\n",
       "    }\n",
       "</style>\n",
       "<table border=\"1\" class=\"dataframe\">\n",
       "  <thead>\n",
       "    <tr style=\"text-align: right;\">\n",
       "      <th></th>\n",
       "      <th>domain</th>\n",
       "    </tr>\n",
       "  </thead>\n",
       "  <tbody>\n",
       "    <tr>\n",
       "      <th>0</th>\n",
       "      <td>12minutos.com</td>\n",
       "    </tr>\n",
       "    <tr>\n",
       "      <th>1</th>\n",
       "      <td>20minutenews.com</td>\n",
       "    </tr>\n",
       "    <tr>\n",
       "      <th>2</th>\n",
       "      <td>24aktuelles.com</td>\n",
       "    </tr>\n",
       "    <tr>\n",
       "      <th>3</th>\n",
       "      <td>24x365live.com</td>\n",
       "    </tr>\n",
       "    <tr>\n",
       "      <th>4</th>\n",
       "      <td>8shit.net</td>\n",
       "    </tr>\n",
       "  </tbody>\n",
       "</table>\n",
       "</div>"
      ],
      "text/plain": [
       "             domain\n",
       "0     12minutos.com\n",
       "1  20minutenews.com\n",
       "2   24aktuelles.com\n",
       "3    24x365live.com\n",
       "4         8shit.net"
      ]
     },
     "execution_count": 16,
     "metadata": {},
     "output_type": "execute_result"
    }
   ],
   "source": [
    "sites_2018 = pd.read_csv(\"../data/sites_2018.csv\")\n",
    "sites_2017 = pd.read_csv(\"../data/sites_2017.csv\")\n",
    "sites_2016 = pd.read_csv(\"../data/sites_2016.csv\")\n",
    "\n",
    "sites_2018.head()"
   ]
  },
  {
   "cell_type": "code",
   "execution_count": 17,
   "metadata": {},
   "outputs": [
    {
     "data": {
      "text/plain": [
       "129"
      ]
     },
     "execution_count": 17,
     "metadata": {},
     "output_type": "execute_result"
    }
   ],
   "source": [
    "len(sites_2018)"
   ]
  },
  {
   "cell_type": "markdown",
   "metadata": {},
   "source": [
    "Check for duplicates"
   ]
  },
  {
   "cell_type": "code",
   "execution_count": 18,
   "metadata": {
    "scrolled": true
   },
   "outputs": [],
   "source": [
    "assert sites_2018[\"domain\"].value_counts().max() == 1\n",
    "assert sites_2017[\"domain\"].value_counts().max() == 1\n",
    "assert sites_2016[\"domain\"].value_counts().max() == 1"
   ]
  },
  {
   "cell_type": "markdown",
   "metadata": {},
   "source": [
    "**Sites in the 2018 list that are not in the 2017 list**"
   ]
  },
  {
   "cell_type": "code",
   "execution_count": 19,
   "metadata": {},
   "outputs": [
    {
     "data": {
      "text/plain": [
       "43"
      ]
     },
     "execution_count": 19,
     "metadata": {},
     "output_type": "execute_result"
    }
   ],
   "source": [
    "difference = len(\n",
    "    set(sites_2018[\"domain\"]) - set(sites_2017[\"domain\"])\n",
    ")\n",
    "\n",
    "difference"
   ]
  },
  {
   "cell_type": "markdown",
   "metadata": {},
   "source": [
    "By percent"
   ]
  },
  {
   "cell_type": "code",
   "execution_count": 20,
   "metadata": {},
   "outputs": [
    {
     "data": {
      "text/plain": [
       "0.3333"
      ]
     },
     "execution_count": 20,
     "metadata": {},
     "output_type": "execute_result"
    }
   ],
   "source": [
    "total = len(sites_2018)\n",
    "\n",
    "round(difference / total, 4)"
   ]
  },
  {
   "cell_type": "markdown",
   "metadata": {},
   "source": [
    "**Sites in the 2018 list that are not in the 2016 list**"
   ]
  },
  {
   "cell_type": "code",
   "execution_count": 21,
   "metadata": {},
   "outputs": [
    {
     "data": {
      "text/plain": [
       "100"
      ]
     },
     "execution_count": 21,
     "metadata": {},
     "output_type": "execute_result"
    }
   ],
   "source": [
    "difference = len(\n",
    "    set(sites_2018[\"domain\"]) - set(sites_2016[\"domain\"])\n",
    ")\n",
    "\n",
    "difference"
   ]
  },
  {
   "cell_type": "markdown",
   "metadata": {},
   "source": [
    "By percentage"
   ]
  },
  {
   "cell_type": "code",
   "execution_count": 22,
   "metadata": {},
   "outputs": [
    {
     "data": {
      "text/plain": [
       "0.7752"
      ]
     },
     "execution_count": 22,
     "metadata": {},
     "output_type": "execute_result"
    }
   ],
   "source": [
    "round(difference / total, 4)"
   ]
  },
  {
   "cell_type": "markdown",
   "metadata": {},
   "source": [
    "**Sites that survived from 2016 to 2018**"
   ]
  },
  {
   "cell_type": "code",
   "execution_count": 23,
   "metadata": {},
   "outputs": [
    {
     "name": "stdout",
     "output_type": "stream",
     "text": [
      "abcnews.com.co\n",
      "adobochronicles.com\n",
      "bizstandardnews.com\n",
      "burrardstreetjournal.com\n",
      "celebtricity.com\n",
      "civictribune.com\n",
      "dailycurrant.com\n",
      "dailyfinesser.com\n",
      "empireherald.com\n",
      "empirenews.net\n",
      "empiresports.co\n",
      "huzlers.com\n",
      "krbcnews.com\n",
      "nationalreport.net\n",
      "news4ktla.com\n",
      "newsexaminer.net\n",
      "newslo.com\n",
      "notallowedto.com\n",
      "now8news.com\n",
      "react365.com\n",
      "realnewsrightnow.com\n",
      "straightstoned.com\n",
      "stuppid.com\n",
      "thenewsnerd.com\n",
      "theracketreport.com\n",
      "thevalleyreport.com\n",
      "tmzhiphop.com\n",
      "witscience.org\n",
      "worldnewsdailyreport.com\n"
     ]
    }
   ],
   "source": [
    "sites_2016_to_2018 = set(sites_2018[\"domain\"]).intersection(set(sites_2016[\"domain\"]))\n",
    "\n",
    "for site in sorted(sites_2016_to_2018):\n",
    "    print(site)"
   ]
  },
  {
   "cell_type": "code",
   "execution_count": 24,
   "metadata": {},
   "outputs": [
    {
     "data": {
      "text/plain": [
       "29"
      ]
     },
     "execution_count": 24,
     "metadata": {},
     "output_type": "execute_result"
    }
   ],
   "source": [
    "len(sites_2016_to_2018)"
   ]
  },
  {
   "cell_type": "markdown",
   "metadata": {},
   "source": [
    "**Sites that survived from 2017 to 2018**"
   ]
  },
  {
   "cell_type": "code",
   "execution_count": 25,
   "metadata": {
    "scrolled": false
   },
   "outputs": [
    {
     "name": "stdout",
     "output_type": "stream",
     "text": [
      "12minutos.com\n",
      "20minutenews.com\n",
      "24aktuelles.com\n",
      "24x365live.com\n",
      "abcnews-us.com\n",
      "abcnews.com.co\n",
      "actualite.co\n",
      "adobochronicles.com\n",
      "albertatimes.com\n",
      "alertchild.com\n",
      "areyousleep.com\n",
      "badcriminals.com\n",
      "bizstandardnews.com\n",
      "breakingnews247.net\n",
      "breakingnews365.net\n",
      "burrardstreetjournal.com\n",
      "cartelreport.com\n",
      "celebtricity.com\n",
      "channel22news.com\n",
      "channel23news.com\n",
      "channel24news.com\n",
      "channel28news.com\n",
      "channel33news.com\n",
      "channel34news.com\n",
      "channel40news.com\n",
      "channel45news.com\n",
      "channel46news.com\n",
      "channel60news.com\n",
      "civictribune.com\n",
      "cnn.com.de\n",
      "cnoticias.net\n",
      "dailycurrant.com\n",
      "dailyfinesser.com\n",
      "dailyworldupdate.com\n",
      "drugsofficial.com\n",
      "empireherald.com\n",
      "empirenews.net\n",
      "empiresports.co\n",
      "en-bref.fr\n",
      "folksvideo.com\n",
      "freewoodpost.com\n",
      "huzlers.com\n",
      "ladiesofliberty.net\n",
      "mrnewswatch.com\n",
      "nachrichten.de.com\n",
      "nachrichten365.com\n",
      "nationalreport.net\n",
      "neonnettle.com\n",
      "net-infosnews.com\n",
      "news4ktla.com\n",
      "newsexaminer.net\n",
      "newslo.com\n",
      "newspunch.com\n",
      "notallowedto.com\n",
      "noticias-frescas.com\n",
      "notizzia.com\n",
      "now8news.com\n",
      "politicot.com\n",
      "react365.com\n",
      "realnewsrightnow.com\n",
      "redinfo.us\n",
      "straightstoned.com\n",
      "stuppid.com\n",
      "thebreakingnews.co\n",
      "thefrt.com\n",
      "thelastlineofdefense.org\n",
      "thenewsnerd.com\n",
      "thenochill.com\n",
      "theracketreport.com\n",
      "thevalleyreport.com\n",
      "tmzbreaking.com\n",
      "tmzcomedy.com\n",
      "tmzhiphop.com\n",
      "tmzuncut.com\n",
      "tmzworldnews.com\n",
      "tmzworldstar.com\n",
      "tmzworldstarnews.com\n",
      "toutelinfo.fr\n",
      "viralactions.com\n",
      "viraldevil.com\n",
      "viralmugshot.com\n",
      "viralpropaganda.com\n",
      "viralspeech.com\n",
      "witscience.org\n",
      "worldnewsdailyreport.com\n",
      "yournewswire.com\n"
     ]
    }
   ],
   "source": [
    "sites_2017_to_2018 = set(sites_2018[\"domain\"]).\\\n",
    "    intersection(set(sites_2017[\"domain\"]))\n",
    "\n",
    "for site in sorted(sites_2017_to_2018):\n",
    "    print(site)"
   ]
  },
  {
   "cell_type": "code",
   "execution_count": 26,
   "metadata": {},
   "outputs": [
    {
     "data": {
      "text/plain": [
       "86"
      ]
     },
     "execution_count": 26,
     "metadata": {},
     "output_type": "execute_result"
    }
   ],
   "source": [
    "len(sites_2017_to_2018)"
   ]
  },
  {
   "cell_type": "markdown",
   "metadata": {},
   "source": [
    "# Facebook engagement"
   ]
  },
  {
   "cell_type": "markdown",
   "metadata": {},
   "source": [
    "**Top stories**"
   ]
  },
  {
   "cell_type": "code",
   "execution_count": 27,
   "metadata": {},
   "outputs": [
    {
     "data": {
      "text/html": [
       "<div>\n",
       "<style scoped>\n",
       "    .dataframe tbody tr th:only-of-type {\n",
       "        vertical-align: middle;\n",
       "    }\n",
       "\n",
       "    .dataframe tbody tr th {\n",
       "        vertical-align: top;\n",
       "    }\n",
       "\n",
       "    .dataframe thead th {\n",
       "        text-align: right;\n",
       "    }\n",
       "</style>\n",
       "<table border=\"1\" class=\"dataframe\">\n",
       "  <thead>\n",
       "    <tr style=\"text-align: right;\">\n",
       "      <th></th>\n",
       "      <th>title</th>\n",
       "      <th>fb_engagement</th>\n",
       "    </tr>\n",
       "  </thead>\n",
       "  <tbody>\n",
       "    <tr>\n",
       "      <th>0</th>\n",
       "      <td>Lottery winner arrested for dumping $200,000 of manure on ex-boss’ lawn</td>\n",
       "      <td>2383021</td>\n",
       "    </tr>\n",
       "    <tr>\n",
       "      <th>1</th>\n",
       "      <td>Former first lady Barbara Bush dies at 92 - CNN</td>\n",
       "      <td>2290000</td>\n",
       "    </tr>\n",
       "    <tr>\n",
       "      <th>2</th>\n",
       "      <td>Woman sues Samsung for $1.8M after cell phone gets stuck inside her vagina</td>\n",
       "      <td>1304430</td>\n",
       "    </tr>\n",
       "    <tr>\n",
       "      <th>3</th>\n",
       "      <td>BREAKING: Michael Jordan Resigns From The Board At Nike-Takes 'Air Jordans' With Him</td>\n",
       "      <td>911336</td>\n",
       "    </tr>\n",
       "    <tr>\n",
       "      <th>4</th>\n",
       "      <td>Donald Trump Ends School Shootings By Banning Schools</td>\n",
       "      <td>830116</td>\n",
       "    </tr>\n",
       "    <tr>\n",
       "      <th>5</th>\n",
       "      <td>Florida Man Arrested For Tranquilizing And Raping Alligators In Everglades</td>\n",
       "      <td>824137</td>\n",
       "    </tr>\n",
       "    <tr>\n",
       "      <th>6</th>\n",
       "      <td>Two altar boys were arrested for putting weed in the censer-burner</td>\n",
       "      <td>797628</td>\n",
       "    </tr>\n",
       "    <tr>\n",
       "      <th>7</th>\n",
       "      <td>North Korea Agrees To Open Its Doors To Christianity</td>\n",
       "      <td>760314</td>\n",
       "    </tr>\n",
       "    <tr>\n",
       "      <th>8</th>\n",
       "      <td>Man Eats Girlfriends Booty For The First Time Dies From E. Coli</td>\n",
       "      <td>633642</td>\n",
       "    </tr>\n",
       "    <tr>\n",
       "      <th>9</th>\n",
       "      <td>Muslim Figure: “We Must Have Pork-Free Menus Or We Will Leave U.S.” How Would You Respond This?</td>\n",
       "      <td>631589</td>\n",
       "    </tr>\n",
       "  </tbody>\n",
       "</table>\n",
       "</div>"
      ],
      "text/plain": [
       "                                                                                             title  \\\n",
       "0                          Lottery winner arrested for dumping $200,000 of manure on ex-boss’ lawn   \n",
       "1                                                  Former first lady Barbara Bush dies at 92 - CNN   \n",
       "2                       Woman sues Samsung for $1.8M after cell phone gets stuck inside her vagina   \n",
       "3             BREAKING: Michael Jordan Resigns From The Board At Nike-Takes 'Air Jordans' With Him   \n",
       "4                                            Donald Trump Ends School Shootings By Banning Schools   \n",
       "5                       Florida Man Arrested For Tranquilizing And Raping Alligators In Everglades   \n",
       "6                               Two altar boys were arrested for putting weed in the censer-burner   \n",
       "7                                             North Korea Agrees To Open Its Doors To Christianity   \n",
       "8                                  Man Eats Girlfriends Booty For The First Time Dies From E. Coli   \n",
       "9  Muslim Figure: “We Must Have Pork-Free Menus Or We Will Leave U.S.” How Would You Respond This?   \n",
       "\n",
       "   fb_engagement  \n",
       "0        2383021  \n",
       "1        2290000  \n",
       "2        1304430  \n",
       "3         911336  \n",
       "4         830116  \n",
       "5         824137  \n",
       "6         797628  \n",
       "7         760314  \n",
       "8         633642  \n",
       "9         631589  "
      ]
     },
     "execution_count": 27,
     "metadata": {},
     "output_type": "execute_result"
    }
   ],
   "source": [
    "# load 2018 list and parse dates\n",
    "top_2018 = pd.read_csv(\n",
    "    \"../data/top_2018.csv\",\n",
    "    thousands = ',',\n",
    "    dtype = {\"fb_engagement\": int},\n",
    "    parse_dates = ['published_date'])\\\n",
    "    .dropna(axis = \"index\", subset = ['url']) \\\n",
    "    .sort_values('fb_engagement', ascending = False)[0:50]\n",
    "\n",
    "top_2018.head(10)[['title', 'fb_engagement']]"
   ]
  },
  {
   "cell_type": "markdown",
   "metadata": {},
   "source": [
    "Total engagement"
   ]
  },
  {
   "cell_type": "code",
   "execution_count": 28,
   "metadata": {},
   "outputs": [
    {
     "data": {
      "text/plain": [
       "22000044"
      ]
     },
     "execution_count": 28,
     "metadata": {},
     "output_type": "execute_result"
    }
   ],
   "source": [
    "top_2018['fb_engagement'].sum()"
   ]
  },
  {
   "cell_type": "markdown",
   "metadata": {},
   "source": [
    "Top domains in 2018"
   ]
  },
  {
   "cell_type": "code",
   "execution_count": 15,
   "metadata": {},
   "outputs": [
    {
     "data": {
      "text/html": [
       "<div>\n",
       "<style scoped>\n",
       "    .dataframe tbody tr th:only-of-type {\n",
       "        vertical-align: middle;\n",
       "    }\n",
       "\n",
       "    .dataframe tbody tr th {\n",
       "        vertical-align: top;\n",
       "    }\n",
       "\n",
       "    .dataframe thead th {\n",
       "        text-align: right;\n",
       "    }\n",
       "</style>\n",
       "<table border=\"1\" class=\"dataframe\">\n",
       "  <thead>\n",
       "    <tr style=\"text-align: right;\">\n",
       "      <th></th>\n",
       "      <th>count</th>\n",
       "    </tr>\n",
       "  </thead>\n",
       "  <tbody>\n",
       "    <tr>\n",
       "      <th>huzlers.com</th>\n",
       "      <td>9</td>\n",
       "    </tr>\n",
       "    <tr>\n",
       "      <th>worldnewsdailyreport.com</th>\n",
       "      <td>9</td>\n",
       "    </tr>\n",
       "    <tr>\n",
       "      <th>yournewswire.com</th>\n",
       "      <td>8</td>\n",
       "    </tr>\n",
       "    <tr>\n",
       "      <th>thereisnews.com</th>\n",
       "      <td>5</td>\n",
       "    </tr>\n",
       "    <tr>\n",
       "      <th>wittheshit.com</th>\n",
       "      <td>2</td>\n",
       "    </tr>\n",
       "    <tr>\n",
       "      <th>react365.com</th>\n",
       "      <td>2</td>\n",
       "    </tr>\n",
       "    <tr>\n",
       "      <th>8shit.net</th>\n",
       "      <td>2</td>\n",
       "    </tr>\n",
       "  </tbody>\n",
       "</table>\n",
       "</div>"
      ],
      "text/plain": [
       "                          count\n",
       "huzlers.com                   9\n",
       "worldnewsdailyreport.com      9\n",
       "yournewswire.com              8\n",
       "thereisnews.com               5\n",
       "wittheshit.com                2\n",
       "react365.com                  2\n",
       "8shit.net                     2"
      ]
     },
     "execution_count": 15,
     "metadata": {},
     "output_type": "execute_result"
    }
   ],
   "source": [
    "# pull the domain out of the url\n",
    "top_2018['domain'] = top_2018['url'].apply( \n",
    "    lambda each: re.sub(r\"^www\\.\", \"\", urlparse(each).netloc)\n",
    ")\n",
    "\n",
    "# group and count\n",
    "top_2018['domain'].value_counts()\\\n",
    "    .to_frame(\"count\")\\\n",
    "    .loc[lambda frame: frame['count'] > 1]"
   ]
  },
  {
   "cell_type": "markdown",
   "metadata": {},
   "source": [
    "## What types of stories did well in 2018?"
   ]
  },
  {
   "cell_type": "code",
   "execution_count": 16,
   "metadata": {},
   "outputs": [
    {
     "data": {
      "text/html": [
       "<div>\n",
       "<style scoped>\n",
       "    .dataframe tbody tr th:only-of-type {\n",
       "        vertical-align: middle;\n",
       "    }\n",
       "\n",
       "    .dataframe tbody tr th {\n",
       "        vertical-align: top;\n",
       "    }\n",
       "\n",
       "    .dataframe thead th {\n",
       "        text-align: right;\n",
       "    }\n",
       "</style>\n",
       "<table border=\"1\" class=\"dataframe\">\n",
       "  <thead>\n",
       "    <tr style=\"text-align: right;\">\n",
       "      <th></th>\n",
       "      <th>count</th>\n",
       "    </tr>\n",
       "  </thead>\n",
       "  <tbody>\n",
       "    <tr>\n",
       "      <th>Crime</th>\n",
       "      <td>21</td>\n",
       "    </tr>\n",
       "    <tr>\n",
       "      <th>Politics</th>\n",
       "      <td>10</td>\n",
       "    </tr>\n",
       "    <tr>\n",
       "      <th>Other</th>\n",
       "      <td>10</td>\n",
       "    </tr>\n",
       "    <tr>\n",
       "      <th>Medical</th>\n",
       "      <td>6</td>\n",
       "    </tr>\n",
       "    <tr>\n",
       "      <th>Business</th>\n",
       "      <td>1</td>\n",
       "    </tr>\n",
       "    <tr>\n",
       "      <th>Sports</th>\n",
       "      <td>1</td>\n",
       "    </tr>\n",
       "    <tr>\n",
       "      <th>Music</th>\n",
       "      <td>1</td>\n",
       "    </tr>\n",
       "  </tbody>\n",
       "</table>\n",
       "</div>"
      ],
      "text/plain": [
       "          count\n",
       "Crime        21\n",
       "Politics     10\n",
       "Other        10\n",
       "Medical       6\n",
       "Business      1\n",
       "Sports        1\n",
       "Music         1"
      ]
     },
     "execution_count": 16,
     "metadata": {},
     "output_type": "execute_result"
    }
   ],
   "source": [
    "# Note: Counts nulls as \"Other\"\n",
    "top_cats_2018 = top_2018['category']\\\n",
    "    .fillna(\"Other\")\\\n",
    "    .value_counts()\\\n",
    "    .to_frame(\"count\")\n",
    "\n",
    "top_cats_2018"
   ]
  },
  {
   "cell_type": "markdown",
   "metadata": {},
   "source": [
    "Categories by proportion of whole"
   ]
  },
  {
   "cell_type": "code",
   "execution_count": 17,
   "metadata": {},
   "outputs": [
    {
     "data": {
      "text/html": [
       "<div>\n",
       "<style scoped>\n",
       "    .dataframe tbody tr th:only-of-type {\n",
       "        vertical-align: middle;\n",
       "    }\n",
       "\n",
       "    .dataframe tbody tr th {\n",
       "        vertical-align: top;\n",
       "    }\n",
       "\n",
       "    .dataframe thead th {\n",
       "        text-align: right;\n",
       "    }\n",
       "</style>\n",
       "<table border=\"1\" class=\"dataframe\">\n",
       "  <thead>\n",
       "    <tr style=\"text-align: right;\">\n",
       "      <th></th>\n",
       "      <th>proportion</th>\n",
       "    </tr>\n",
       "  </thead>\n",
       "  <tbody>\n",
       "    <tr>\n",
       "      <th>Crime</th>\n",
       "      <td>0.42</td>\n",
       "    </tr>\n",
       "    <tr>\n",
       "      <th>Politics</th>\n",
       "      <td>0.20</td>\n",
       "    </tr>\n",
       "    <tr>\n",
       "      <th>Other</th>\n",
       "      <td>0.20</td>\n",
       "    </tr>\n",
       "    <tr>\n",
       "      <th>Medical</th>\n",
       "      <td>0.12</td>\n",
       "    </tr>\n",
       "    <tr>\n",
       "      <th>Business</th>\n",
       "      <td>0.02</td>\n",
       "    </tr>\n",
       "    <tr>\n",
       "      <th>Sports</th>\n",
       "      <td>0.02</td>\n",
       "    </tr>\n",
       "    <tr>\n",
       "      <th>Music</th>\n",
       "      <td>0.02</td>\n",
       "    </tr>\n",
       "  </tbody>\n",
       "</table>\n",
       "</div>"
      ],
      "text/plain": [
       "          proportion\n",
       "Crime           0.42\n",
       "Politics        0.20\n",
       "Other           0.20\n",
       "Medical         0.12\n",
       "Business        0.02\n",
       "Sports          0.02\n",
       "Music           0.02"
      ]
     },
     "execution_count": 17,
     "metadata": {},
     "output_type": "execute_result"
    }
   ],
   "source": [
    "top_2018['category']\\\n",
    "    .fillna(\"Other\")\\\n",
    "    .value_counts(normalize = True)\\\n",
    "    .to_frame(\"proportion\")"
   ]
  },
  {
   "cell_type": "markdown",
   "metadata": {},
   "source": [
    "# Posts over time"
   ]
  },
  {
   "cell_type": "code",
   "execution_count": 18,
   "metadata": {},
   "outputs": [
    {
     "data": {
      "text/html": [
       "<div>\n",
       "<style scoped>\n",
       "    .dataframe tbody tr th:only-of-type {\n",
       "        vertical-align: middle;\n",
       "    }\n",
       "\n",
       "    .dataframe tbody tr th {\n",
       "        vertical-align: top;\n",
       "    }\n",
       "\n",
       "    .dataframe thead th {\n",
       "        text-align: right;\n",
       "    }\n",
       "</style>\n",
       "<table border=\"1\" class=\"dataframe\">\n",
       "  <thead>\n",
       "    <tr style=\"text-align: right;\">\n",
       "      <th></th>\n",
       "      <th>count</th>\n",
       "    </tr>\n",
       "    <tr>\n",
       "      <th>published_date</th>\n",
       "      <th></th>\n",
       "    </tr>\n",
       "  </thead>\n",
       "  <tbody>\n",
       "    <tr>\n",
       "      <th>January</th>\n",
       "      <td>3</td>\n",
       "    </tr>\n",
       "    <tr>\n",
       "      <th>February</th>\n",
       "      <td>5</td>\n",
       "    </tr>\n",
       "    <tr>\n",
       "      <th>March</th>\n",
       "      <td>3</td>\n",
       "    </tr>\n",
       "    <tr>\n",
       "      <th>April</th>\n",
       "      <td>6</td>\n",
       "    </tr>\n",
       "    <tr>\n",
       "      <th>May</th>\n",
       "      <td>6</td>\n",
       "    </tr>\n",
       "    <tr>\n",
       "      <th>June</th>\n",
       "      <td>4</td>\n",
       "    </tr>\n",
       "    <tr>\n",
       "      <th>July</th>\n",
       "      <td>7</td>\n",
       "    </tr>\n",
       "    <tr>\n",
       "      <th>August</th>\n",
       "      <td>2</td>\n",
       "    </tr>\n",
       "    <tr>\n",
       "      <th>September</th>\n",
       "      <td>8</td>\n",
       "    </tr>\n",
       "    <tr>\n",
       "      <th>October</th>\n",
       "      <td>5</td>\n",
       "    </tr>\n",
       "    <tr>\n",
       "      <th>November</th>\n",
       "      <td>1</td>\n",
       "    </tr>\n",
       "  </tbody>\n",
       "</table>\n",
       "</div>"
      ],
      "text/plain": [
       "                count\n",
       "published_date       \n",
       "January             3\n",
       "February            5\n",
       "March               3\n",
       "April               6\n",
       "May                 6\n",
       "June                4\n",
       "July                7\n",
       "August              2\n",
       "September           8\n",
       "October             5\n",
       "November            1"
      ]
     },
     "execution_count": 18,
     "metadata": {},
     "output_type": "execute_result"
    }
   ],
   "source": [
    "# re-index by date\n",
    "top_2018.index = top_2018['published_date']\n",
    "\n",
    "# group by month and convert integer to named month\n",
    "top_2018_bymonth = top_2018.groupby(pd.Grouper(freq='M')) \\\n",
    "    .count()\n",
    "\n",
    "top_2018_bymonth.index = top_2018_bymonth.index.map(\n",
    "    lambda each: calendar.month_name[each.month]\n",
    ")\n",
    "\n",
    "top_2018_bymonth['title'].to_frame('count')"
   ]
  },
  {
   "cell_type": "markdown",
   "metadata": {},
   "source": [
    "Charted"
   ]
  },
  {
   "cell_type": "code",
   "execution_count": 19,
   "metadata": {},
   "outputs": [
    {
     "data": {
      "image/png": "[encoded data removed]",
      "text/plain": [
       "<Figure size 648x432 with 1 Axes>"
      ]
     },
     "metadata": {
      "needs_background": "light"
     },
     "output_type": "display_data"
    }
   ],
   "source": [
    "top_2018_bymonth['title'].plot(\n",
    "    kind = \"bar\",\n",
    "    color = \"steelblue\",\n",
    "    figsize = (9, 6),\n",
    ");"
   ]
  },
  {
   "cell_type": "markdown",
   "metadata": {},
   "source": [
    "---\n",
    "\n",
    "---\n",
    "\n",
    "---"
   ]
  }
 ],
 "metadata": {
  "kernelspec": {
   "display_name": "Python 3",
   "language": "python",
   "name": "python3"
  },
  "language_info": {
   "codemirror_mode": {
    "name": "ipython",
    "version": 3
   },
   "file_extension": ".py",
   "mimetype": "text/x-python",
   "name": "python",
   "nbconvert_exporter": "python",
   "pygments_lexer": "ipython3",
   "version": "3.6.4"
  }
 },
 "nbformat": 4,
 "nbformat_minor": 2
}
